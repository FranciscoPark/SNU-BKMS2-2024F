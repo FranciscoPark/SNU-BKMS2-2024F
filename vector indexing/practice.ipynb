{
  "cells": [
    {
      "cell_type": "markdown",
      "metadata": {
        "id": "HUSjgR9F8F8R"
      },
      "source": [
        "## Install"
      ]
    },
    {
      "cell_type": "code",
      "execution_count": null,
      "metadata": {
        "id": "uaY46dh63D8o"
      },
      "outputs": [],
      "source": [
        "# install\n",
        "!pip install federpy\n",
        "\n",
        "# import\n",
        "from federpy.federpy import FederPy"
      ]
    },
    {
      "cell_type": "markdown",
      "metadata": {
        "id": "PhaKV2o3e4hB"
      },
      "source": [
        "### Data Preparation"
      ]
    },
    {
      "cell_type": "code",
      "execution_count": 80,
      "metadata": {
        "id": "7XRTALSsc2_4"
      },
      "outputs": [],
      "source": [
        "# index file built by hnswlib or faiss.\n",
        "hnswSource = 'hnswlib'\n",
        "hnswIndexFile = 'https://assets.zilliz.com/hnswlib_hnsw_voc_17k_1f1dfd63a9.index'\n",
        "\n",
        "ivfflatSource = 'faiss'\n",
        "ivfflatIndexFile = 'https://assets.zilliz.com/faiss_ivf_flat_voc_17k_ab112eec72.index'"
      ]
    },
    {
      "cell_type": "code",
      "execution_count": 81,
      "metadata": {
        "id": "MIPq9kq8dkpP"
      },
      "outputs": [],
      "source": [
        "import pandas as pd\n",
        "\n",
        "# this csv includes 17,000+ items，each only includes its filename.\n",
        "namesFile = \"https://assets.zilliz.com/voc_names_4cee9440b1.csv\"\n",
        "\n",
        "namesCsv = pd.read_csv(namesFile)\n",
        "imageUrls = [\"https://assets.zilliz.com/voc2012/JPEGImages/%s\" % row['name'] for index, row in namesCsv.iterrows()]"
      ]
    },
    {
      "cell_type": "code",
      "execution_count": 81,
      "metadata": {
        "id": "slcJLqSEFn4P"
      },
      "outputs": [],
      "source": []
    },
    {
      "cell_type": "markdown",
      "metadata": {
        "id": "zv8ixRkm-vfy"
      },
      "source": [
        "## Vis for IVF_Flat (faiss)"
      ]
    },
    {
      "cell_type": "code",
      "execution_count": 82,
      "metadata": {
        "id": "5PzqwP6dlBpU"
      },
      "outputs": [],
      "source": [
        "ivfflatViewParams = {\n",
        "    \"width\": 800,\n",
        "    \"height\": 500,\n",
        "    \"mediaType\": \"image\",\n",
        "    \"mediaUrls\": imageUrls,\n",
        "    \"projectMethod\": \"umap\",\n",
        "}\n",
        "federPy_ivfflat = FederPy(ivfflatIndexFile, ivfflatSource, **ivfflatViewParams)"
      ]
    },
    {
      "cell_type": "markdown",
      "metadata": {
        "id": "d_buVv3g8kuZ"
      },
      "source": [
        "### Overview"
      ]
    },
    {
      "cell_type": "code",
      "execution_count": null,
      "metadata": {
        "id": "1gQIiUm5Yc0_"
      },
      "outputs": [],
      "source": [
        "federPy_ivfflat.overview()"
      ]
    },
    {
      "cell_type": "markdown",
      "metadata": {
        "id": "SYI_CUZF_Hwv"
      },
      "source": [
        "### Search View"
      ]
    },
    {
      "cell_type": "code",
      "execution_count": null,
      "metadata": {
        "id": "QhHqESI-Yc3j"
      },
      "outputs": [],
      "source": [
        "federPy_ivfflat.setSearchParams({\"k\": 9, \"nprobe\": 8}).searchRandTestVec()"
      ]
    },
    {
      "cell_type": "markdown",
      "metadata": {
        "id": "C6bBcvRinjxR"
      },
      "source": [
        "## Vis for HNSW (hnswlib)"
      ]
    },
    {
      "cell_type": "code",
      "execution_count": 85,
      "metadata": {
        "id": "nYkZJDo_g2W3"
      },
      "outputs": [],
      "source": [
        "# init federpy\n",
        "hnswViewParams = {\n",
        "    \"width\": 800,\n",
        "    \"height\": 500,\n",
        "    \"mediaType\": \"image\",\n",
        "    \"mediaUrls\": imageUrls\n",
        "}\n",
        "federPy_hnsw = FederPy(hnswIndexFile, hnswSource, **hnswViewParams)"
      ]
    },
    {
      "cell_type": "markdown",
      "metadata": {
        "id": "DTQUyz-D-eyv"
      },
      "source": [
        "### Overview"
      ]
    },
    {
      "cell_type": "code",
      "execution_count": null,
      "metadata": {
        "id": "ZvSM4CexYcqz"
      },
      "outputs": [],
      "source": [
        "federPy_hnsw.overview()"
      ]
    },
    {
      "cell_type": "markdown",
      "metadata": {
        "id": "j97FScOk-bO3"
      },
      "source": [
        "### Search View"
      ]
    },
    {
      "cell_type": "code",
      "execution_count": null,
      "metadata": {
        "id": "Mh8S_vP3Ycu-"
      },
      "outputs": [],
      "source": [
        "federPy_hnsw.setSearchParams({\"k\": 6, \"ef\": 8}).searchRandTestVec()"
      ]
    },
    {
      "cell_type": "code",
      "execution_count": null,
      "metadata": {
        "id": "JT-dFCZiFn4T"
      },
      "outputs": [],
      "source": []
    },
    {
      "cell_type": "markdown",
      "metadata": {
        "id": "_NN7sFYjFn4T"
      },
      "source": [
        "## Code"
      ]
    },
    {
      "cell_type": "markdown",
      "source": [
        "### IVF, HNSW class"
      ],
      "metadata": {
        "id": "CBbHRIlcH2de"
      }
    },
    {
      "cell_type": "code",
      "source": [
        "\n",
        "import numpy as np\n",
        "from sklearn.cluster import KMeans\n",
        "from sklearn.preprocessing import normalize\n",
        "\n",
        "\n",
        "class IVF:\n",
        "\n",
        "    def _compute_distance(self, data, q):\n",
        "        \"\"\"Compute the appropriate distance based on the distance type.\"\"\"\n",
        "        if self.distance_type == 'l2':\n",
        "            return np.linalg.norm(data - q, axis=1)\n",
        "        elif self.distance_type == 'cosine':\n",
        "            return 1 - np.dot(data, q.T) / (np.linalg.norm(data, axis=1) * np.linalg.norm(q))\n",
        "\n",
        "\n",
        "    def __init__(self, distance_type, n_clusters):\n",
        "\n",
        "        self.n_clusters = n_clusters\n",
        "        self.distance_type = distance_type\n",
        "        self.kmeans = KMeans(n_clusters=n_clusters, random_state=42)\n",
        "        self.inverted_index = {i: [] for i in range(n_clusters)}\n",
        "        self.data = None\n",
        "        self.visited_count = 0\n",
        "\n",
        "\n",
        "    def fit(self, X):\n",
        "\n",
        "        if self.distance_type == 'cosine':\n",
        "            X = X / np.linalg.norm(X, axis=1, keepdims=True)\n",
        "\n",
        "        self.kmeans.fit(X)\n",
        "        labels = self.kmeans.labels_\n",
        "\n",
        "        for idx, label in enumerate(labels):\n",
        "            self.inverted_index[label].append(idx)\n",
        "\n",
        "        self.data = X\n",
        "\n",
        "\n",
        "\n",
        "    def search(self, q, k, n_probes=1):\n",
        "\n",
        "        self.visited_count = 0\n",
        "\n",
        "        assert n_probes <= self.n_clusters\n",
        "\n",
        "        if self.distance_type == \"cosine\":\n",
        "            q = q / np.linalg.norm(q)\n",
        "\n",
        "        cluster_distances = self._compute_distance(self.kmeans.cluster_centers_, q).flatten()\n",
        "        probe_clusters = np.argpartition(cluster_distances, n_probes)[:n_probes]\n",
        "\n",
        "        candidates = np.concatenate([self.inverted_index[cl] for cl in probe_clusters])\n",
        "\n",
        "        self.visited_count += len(candidates)\n",
        "\n",
        "        if len(candidates) <= k:\n",
        "            return candidates\n",
        "\n",
        "        dists = self._compute_distance(self.data[candidates], q).flatten()\n",
        "        top_idx = np.argpartition(dists, k)[:k]\n",
        "\n",
        "        top_k = candidates[top_idx]\n",
        "        top_dist = dists[top_idx]\n",
        "\n",
        "        return [(k, dist) for k, dist in zip(top_k, top_dist)]\n",
        "\n"
      ],
      "metadata": {
        "id": "NcST2HwuH5-S"
      },
      "execution_count": 36,
      "outputs": []
    },
    {
      "cell_type": "code",
      "source": [
        "# https://github.com/RyanLiGod/hnsw-python/blob/master/hnsw.py\n",
        "\n",
        "from heapq import heapify, heappop, heappush, heapreplace, nlargest\n",
        "from math import log2\n",
        "from operator import itemgetter\n",
        "from random import random\n",
        "import numpy as np\n",
        "\n",
        "class HNSW:\n",
        "    # self._graphs[level][i] contains a {j: dist} dictionary,\n",
        "    # where j is a neighbor of i and dist is distance\n",
        "\n",
        "    def l2_distance(self, a, b):\n",
        "        return np.linalg.norm(a - b)\n",
        "\n",
        "    def cosine_distance(self, a, b):\n",
        "        try:\n",
        "            return 1 - np.dot(a, b) / (np.linalg.norm(a) * np.linalg.norm(b))\n",
        "        except ValueError:\n",
        "            print(a)\n",
        "            print(b)\n",
        "\n",
        "    def vectorized_distance_(self, x, ys):\n",
        "        return [self.distance_func(x, y) for y in ys]\n",
        "\n",
        "    def __init__(self, distance_type, M=5, efConstruction=200, Mmax=None):\n",
        "        if distance_type == \"l2\":\n",
        "            distance_func = self.l2_distance\n",
        "        elif distance_type == \"cosine\":\n",
        "            distance_func = self.cosine_distance\n",
        "        else:\n",
        "            raise TypeError('Please check your distance type!')\n",
        "        self.distance_func = distance_func\n",
        "        self.vectorized_distance = self.vectorized_distance_\n",
        "        self._M = M\n",
        "        self._efConstruction = efConstruction\n",
        "        self._Mmax = 2 * M if Mmax is None else Mmax\n",
        "        self._level_mult = 1 / log2(M)\n",
        "        self._graphs = []\n",
        "        self._enter_point = None\n",
        "        self.data = []\n",
        "        self.visited_count = 0\n",
        "\n",
        "    ### Algorithm 1: INSERT\n",
        "    def insert(self, q, efConstruction=None):\n",
        "\n",
        "        if efConstruction is None:\n",
        "            efConstruction = self._efConstruction\n",
        "\n",
        "        distance = self.distance_func\n",
        "        data = self.data\n",
        "        graphs = self._graphs\n",
        "        ep = self._enter_point\n",
        "        M = self._M\n",
        "\n",
        "        # line 4: determine level for the new element q\n",
        "        l = int(-log2(random()) * self._level_mult) + 1\n",
        "        idx = len(data)\n",
        "        data.append(q)\n",
        "\n",
        "        if ep is not None:\n",
        "            neg_dist = -distance(q, data[ep])\n",
        "            # distance(q, data[ep])|\n",
        "\n",
        "            # line 5-7: find the closest neighbor for levels above the insertion level\n",
        "            for lc in reversed(graphs[l:]):\n",
        "                neg_dist, ep = self._search_layer(q, [(neg_dist, ep)], lc, 1)[0]\n",
        "\n",
        "            # line 8-17: insert q at the relevant levels; W is a candidate list\n",
        "            layer0 = graphs[0]\n",
        "            for lc in reversed(graphs[:l]):\n",
        "                M_layer = M if lc is not layer0 else self._Mmax\n",
        "\n",
        "                # line 9: update W with the closest nodes found in the graph\n",
        "                W = self._search_layer(q, [(neg_dist, ep)], lc, efConstruction)\n",
        "\n",
        "                # line 10: insert the best neighbors for q at this layer\n",
        "                lc[idx] = layer_idx = {}\n",
        "                self._select(layer_idx, W, M_layer, lc, heap=True)\n",
        "\n",
        "                # line 11-13: insert bidirectional links to the new node\n",
        "                for j, dist in layer_idx.items():\n",
        "                    self._select(lc[j], (idx, dist), M_layer, lc)\n",
        "\n",
        "        # line 18: create empty graphs for all new levels\n",
        "        for _ in range(len(graphs), l):\n",
        "            graphs.append({idx: {}})\n",
        "            self._enter_point = idx\n",
        "\n",
        "\n",
        "    ### Algorithm 5: K-NN-SEARCH\n",
        "    def search(self, q, K=5, efSearch=20):\n",
        "        \"\"\"Find the K points closest to q.\"\"\"\n",
        "\n",
        "        distance = self.distance_func\n",
        "        graphs = self._graphs\n",
        "        ep = self._enter_point\n",
        "        self.visited_count = 0\n",
        "\n",
        "        if ep is None:\n",
        "            raise ValueError(\"Empty graph\")\n",
        "\n",
        "        neg_dist = -distance(q, self.data[ep])\n",
        "\n",
        "        # line 1-5: search from top layers down to the second level\n",
        "        for lc in reversed(graphs[1:]):\n",
        "            neg_dist, ep = self._search_layer(q, [(neg_dist, ep)], lc, 1)[0]\n",
        "\n",
        "        # line 6: search with efSearch neighbors at the bottom level\n",
        "        W = self._search_layer(q, [(neg_dist, ep)], graphs[0], efSearch)\n",
        "\n",
        "        if K is not None:\n",
        "            W = nlargest(K, W)\n",
        "        else:\n",
        "            W.sort(reverse=True)\n",
        "\n",
        "        return [(idx, -md) for md, idx in W]\n",
        "\n",
        "\n",
        "    ### Algorithm 2: SEARCH-LAYER\n",
        "    def _search_layer(self, q, W, lc, ef):\n",
        "\n",
        "        vectorized_distance = self.vectorized_distance\n",
        "        data = self.data\n",
        "\n",
        "        # Step 1: Initialize candidate list and visited set\n",
        "        C = [(-neg_dist, idx) for neg_dist, idx in W]\n",
        "        heapify(C)\n",
        "        heapify(W)\n",
        "        visited = set(idx for _, idx in W)\n",
        "\n",
        "        # Step 4-17: Explore neighbors until candidate list is exhausted\n",
        "        while C:\n",
        "            dist, c = heappop(C)\n",
        "            furthest = -W[0][0]\n",
        "            if dist > furthest:\n",
        "                break\n",
        "            neighbors = [e for e in lc[c] if e not in visited]\n",
        "            visited.update(neighbors)\n",
        "            dists = vectorized_distance(q, [data[e] for e in neighbors])\n",
        "            for e, dist in zip(neighbors, dists):\n",
        "                self.visited_count += 1\n",
        "                neg_dist = -dist\n",
        "                if len(W) < ef:\n",
        "                    heappush(C, (dist, e))\n",
        "                    heappush(W, (neg_dist, e))\n",
        "                    furthest = -W[0][0]\n",
        "                elif dist < furthest:\n",
        "                    heappush(C, (dist, e))\n",
        "                    heapreplace(W, (neg_dist, e))\n",
        "                    furthest = -W[0][0]\n",
        "\n",
        "        return W\n",
        "\n",
        "    ### Algorithm 3: SELECT-NEIGHBORS-SIMPLE\n",
        "    def _select(self, R, C, M, lc, heap=False):\n",
        "\n",
        "        if not heap:\n",
        "            idx, dist = C\n",
        "            if len(R) < M:\n",
        "                R[idx] = dist\n",
        "            else:\n",
        "                max_idx, max_dist = max(R.items(), key=itemgetter(1))\n",
        "                if dist < max_dist:\n",
        "                    del R[max_idx]\n",
        "                    R[idx] = dist\n",
        "            return\n",
        "\n",
        "        else:\n",
        "            C = nlargest(M, C)\n",
        "            R.update({idx: -neg_dist for neg_dist, idx in C})\n"
      ],
      "metadata": {
        "id": "tT-U0gitH6A0"
      },
      "execution_count": 25,
      "outputs": []
    },
    {
      "cell_type": "markdown",
      "metadata": {
        "id": "KDbp1LgAFn4T"
      },
      "source": [
        "### Data Preparation"
      ]
    },
    {
      "cell_type": "code",
      "source": [
        "import pandas as pd\n",
        "\n",
        "data_raw = pd.read_parquet('openai_embedding_raw.parquet')\n",
        "data_raw.head()"
      ],
      "metadata": {
        "id": "J7ryVkILdglB"
      },
      "execution_count": null,
      "outputs": []
    },
    {
      "cell_type": "code",
      "execution_count": 4,
      "metadata": {
        "id": "ADOiAFjeFn4T"
      },
      "outputs": [],
      "source": [
        "import numpy as np\n",
        "import matplotlib.pyplot as plt\n",
        "import seaborn as sns\n",
        "import h5py\n",
        "import time\n",
        "\n",
        "f = h5py.File('openai_embedding_output.hdf5','r')\n",
        "distances = f['distances']\n",
        "neighbors = f['neighbors']\n",
        "test = f['test']\n",
        "train = f['train']"
      ]
    },
    {
      "cell_type": "code",
      "execution_count": null,
      "metadata": {
        "id": "MTDwgqEuFn4T"
      },
      "outputs": [],
      "source": [
        "distances"
      ]
    },
    {
      "cell_type": "code",
      "execution_count": null,
      "metadata": {
        "id": "Nxr6GMrxFn4T"
      },
      "outputs": [],
      "source": [
        "distances[0]"
      ]
    },
    {
      "cell_type": "code",
      "execution_count": null,
      "metadata": {
        "id": "bLtRFIqBFn4T"
      },
      "outputs": [],
      "source": [
        "neighbors"
      ]
    },
    {
      "cell_type": "code",
      "execution_count": null,
      "metadata": {
        "id": "_PcecGH-Fn4U"
      },
      "outputs": [],
      "source": [
        "neighbors[0]"
      ]
    },
    {
      "cell_type": "code",
      "execution_count": null,
      "metadata": {
        "id": "hulL9NhgFn4U"
      },
      "outputs": [],
      "source": [
        "train"
      ]
    },
    {
      "cell_type": "code",
      "execution_count": null,
      "metadata": {
        "id": "GKDtpgjgFn4U"
      },
      "outputs": [],
      "source": [
        "test"
      ]
    },
    {
      "cell_type": "markdown",
      "metadata": {
        "id": "T00Ob-rWFn4U"
      },
      "source": [
        "### IVF code"
      ]
    },
    {
      "cell_type": "code",
      "execution_count": 37,
      "metadata": {
        "id": "ogxR4YSIFn4U"
      },
      "outputs": [],
      "source": [
        "ivf = IVF(\"cosine\", n_clusters = 100)\n",
        "\n",
        "ivf.fit(train)"
      ]
    },
    {
      "cell_type": "code",
      "execution_count": 38,
      "metadata": {
        "id": "8o9hklHfFn4U"
      },
      "outputs": [],
      "source": [
        "## cluster 확인\n",
        "# ivf.inverted_index"
      ]
    },
    {
      "cell_type": "code",
      "execution_count": null,
      "metadata": {
        "id": "Lhb-xHn-Fn4U"
      },
      "outputs": [],
      "source": [
        "## cluster별 데이터 수\n",
        "for i in range(10):\n",
        "    print(f\"cluster {i} : {len(ivf.inverted_index[i])}\")"
      ]
    },
    {
      "cell_type": "code",
      "execution_count": null,
      "metadata": {
        "id": "u6ncxQiaFn4Z"
      },
      "outputs": [],
      "source": [
        "## centroid 확인\n",
        "ivf.kmeans.cluster_centers_"
      ]
    },
    {
      "cell_type": "code",
      "execution_count": null,
      "metadata": {
        "id": "cUF24wEUFn4Z"
      },
      "outputs": [],
      "source": [
        "## search\n",
        "ivf.search(test[0], k = 5, n_probes = 3)"
      ]
    },
    {
      "cell_type": "code",
      "source": [
        "## 방문한 벡터 수\n",
        "ivf.visited_count"
      ],
      "metadata": {
        "id": "iEzg93RqHrWY"
      },
      "execution_count": null,
      "outputs": []
    },
    {
      "cell_type": "code",
      "execution_count": null,
      "metadata": {
        "id": "9ulcuKQxFn4Z"
      },
      "outputs": [],
      "source": [
        "## true-NN 확인\n",
        "[(n, d) for d, n in zip(distances[0][:5], neighbors[0][:5])]"
      ]
    },
    {
      "cell_type": "markdown",
      "metadata": {
        "id": "F2S4TByNFn4Z"
      },
      "source": [
        "### IVF 성능평가"
      ]
    },
    {
      "cell_type": "code",
      "execution_count": 108,
      "metadata": {
        "id": "Y9a0azl7Fn4Z",
        "outputId": "c69fdb1d-ec0d-4b33-ca97-2e01c2869a3c",
        "colab": {
          "base_uri": "https://localhost:8080/"
        }
      },
      "outputs": [
        {
          "output_type": "stream",
          "name": "stdout",
          "text": [
            "n_cluster : 50, build time : 7.234094619750977\n",
            "n_cluster : 100, build time : 12.92861819267273\n",
            "n_cluster : 150, build time : 19.378098726272583\n"
          ]
        }
      ],
      "source": [
        "## index build time\n",
        "n_clusters = [50, 100, 150]\n",
        "times = []\n",
        "for n_cluster in n_clusters:\n",
        "    ivf = IVF(\"cosine\", n_clusters = n_cluster)\n",
        "    start = time.time()\n",
        "    ivf.fit(train)\n",
        "    times.append(time.time() - start)\n",
        "\n",
        "for n_cluster, time_ in zip(n_clusters, times):\n",
        "    print(f\"n_cluster : {n_cluster}, build time : {time_}\")\n"
      ]
    },
    {
      "cell_type": "code",
      "source": [
        "## n_cluster = sqrt(len(data))를 권장\n",
        "\n",
        "ivf = IVF(\"cosine\", n_clusters = 100)\n",
        "ivf.fit(train)"
      ],
      "metadata": {
        "id": "ZhO4YZF7IJ2-"
      },
      "execution_count": null,
      "outputs": []
    },
    {
      "cell_type": "code",
      "execution_count": null,
      "metadata": {
        "id": "PNxq9qgYFn4Z"
      },
      "outputs": [],
      "source": [
        "## search speed and accuracy with different n_probe\n",
        "n_probes = [3, 7, 10, 15]\n",
        "qps_ivf = []\n",
        "accuracies_ivf = []\n",
        "visited_ivf = []\n",
        "\n",
        "for n_probe in n_probes:\n",
        "\n",
        "    query_acc = []\n",
        "    query_per_second = []\n",
        "    query_visit = []\n",
        "\n",
        "    for i in range(len(test)):\n",
        "        start = time.time()\n",
        "        search_result = ivf.search(test[i], 5, n_probe)\n",
        "        query_per_second.append(time.time() - start)\n",
        "\n",
        "        acc = len(set(neighbors[i][:5]) & set([idx for idx, _ in search_result])) / 5\n",
        "        query_acc.append(acc)\n",
        "\n",
        "        query_visit.append(ivf.visited_count)\n",
        "\n",
        "    accuracies_ivf.append(np.mean(query_acc))\n",
        "    qps_ivf.append(1 / np.mean(query_per_second))\n",
        "    visited_ivf.append(np.mean(query_visit))\n",
        "\n",
        "for n_probe, acc, qp, v in zip(n_probes, accuracies_ivf, qps_ivf, visited_ivf):\n",
        "    print(f\"n_probe : {n_probe}, accuracy : {acc}, qps : {qp}, visited : {v}\")"
      ]
    },
    {
      "cell_type": "code",
      "execution_count": null,
      "metadata": {
        "id": "XFRhKUDeFn4Z",
        "collapsed": true
      },
      "outputs": [],
      "source": [
        "plt.figure(figsize=(12, 5))\n",
        "\n",
        "plt.subplot(1, 2, 1)\n",
        "sns.lineplot(x=accuracies_ivf, y=qps_ivf)\n",
        "sns.scatterplot(x=accuracies_ivf, y=qps_ivf, hue=n_probes, s=100, legend=\"full\", palette = \"mako\")\n",
        "plt.xlabel(\"Accuracy (Recall)\")\n",
        "plt.ylabel(\"Query Per Second (QPS)\")\n",
        "plt.legend(title=\"n_probe\")\n",
        "plt.title(\"Accuracy vs Query Per Second\")\n",
        "\n",
        "plt.subplot(1, 2, 2)\n",
        "sns.lineplot(x=accuracies_ivf, y=visited_ivf)\n",
        "sns.scatterplot(x=accuracies_ivf, y=visited_ivf, hue=n_probes, s=100, palette = \"mako\")\n",
        "plt.xlabel(\"Accuracy (Recall)\")\n",
        "plt.ylabel(\"Visited Nodes\")\n",
        "plt.legend(title=\"n_probe\")\n",
        "plt.title(\"Accuracy vs Visited Nodes\")\n",
        "\n",
        "plt.tight_layout()\n",
        "plt.show()"
      ]
    },
    {
      "cell_type": "markdown",
      "metadata": {
        "id": "WSJokjCXFn4Z"
      },
      "source": [
        "### HNSW code"
      ]
    },
    {
      "cell_type": "code",
      "execution_count": 26,
      "metadata": {
        "id": "mmyj70yfFn4Z"
      },
      "outputs": [],
      "source": [
        "hnsw = HNSW(\"cosine\", M = 16, efConstruction=64)\n",
        "\n",
        "for i in range(len(train)):\n",
        "    hnsw.insert(train[i])"
      ]
    },
    {
      "cell_type": "code",
      "execution_count": 27,
      "metadata": {
        "id": "zDX8QaTiFn4Z",
        "collapsed": true
      },
      "outputs": [],
      "source": [
        "## hnsw index 확인\n",
        "# hnsw._graphs"
      ]
    },
    {
      "cell_type": "code",
      "execution_count": null,
      "metadata": {
        "id": "RZYhTCc-Fn4b"
      },
      "outputs": [],
      "source": [
        "## layer별 노드 수\n",
        "for i in range(len(hnsw._graphs)):\n",
        "    print(f\"layer {i} : {len(hnsw._graphs[i])}\")"
      ]
    },
    {
      "cell_type": "code",
      "execution_count": null,
      "metadata": {
        "id": "qR6MfTWLFn4b"
      },
      "outputs": [],
      "source": [
        "## search\n",
        "\n",
        "hnsw.search(test[0], 5)"
      ]
    },
    {
      "cell_type": "code",
      "execution_count": null,
      "metadata": {
        "id": "N87ADQZ1Fn4b"
      },
      "outputs": [],
      "source": [
        "## true-NN 확인\n",
        "[(n, d) for d, n in zip(distances[0][:5], neighbors[0][:5])]"
      ]
    },
    {
      "cell_type": "code",
      "source": [
        "## 평균 방문 노드 수 확인\n",
        "visit = []\n",
        "for i in range(len(test)):\n",
        "    hnsw.search(test[i], 5, 20)\n",
        "    visit.append(hnsw.visited_count)\n",
        "\n",
        "print(np.mean(visit))"
      ],
      "metadata": {
        "id": "4b58ZusQfKg2"
      },
      "execution_count": null,
      "outputs": []
    },
    {
      "cell_type": "code",
      "source": [
        "visit_k = []\n",
        "\n",
        "for ef in [20, 50, 100]:\n",
        "    visit = []\n",
        "    for i in range(len(test)):\n",
        "        hnsw.search(test[i], 5, ef)\n",
        "        visit.append(hnsw.visited_count)\n",
        "\n",
        "    visit_k.append(np.mean(visit))\n",
        "\n",
        "visit_k"
      ],
      "metadata": {
        "id": "lzmGdFl2fnH9"
      },
      "execution_count": null,
      "outputs": []
    },
    {
      "cell_type": "code",
      "execution_count": null,
      "metadata": {
        "id": "i01BsmrAFn4c"
      },
      "outputs": [],
      "source": []
    },
    {
      "cell_type": "markdown",
      "metadata": {
        "id": "ERd1DXvJFn4c"
      },
      "source": [
        "### HNSW 성능평가"
      ]
    },
    {
      "cell_type": "code",
      "execution_count": 127,
      "metadata": {
        "id": "bE5nQPpgFn4c",
        "outputId": "31bcb38e-dab0-43b7-f9bd-07efebd30546",
        "colab": {
          "base_uri": "https://localhost:8080/"
        }
      },
      "outputs": [
        {
          "output_type": "stream",
          "name": "stderr",
          "text": [
            "<ipython-input-127-26ca1310b0c9>:16: FutureWarning: The behavior of DataFrame concatenation with empty or all-NA entries is deprecated. In a future version, this will no longer exclude empty or all-NA columns when determining the result dtypes. To retain the old behavior, exclude the relevant entries before the concat operation.\n",
            "  build_time_df = pd.concat(\n"
          ]
        }
      ],
      "source": [
        "build_time_df = pd.DataFrame(columns=[\"M\", \"efConstruction\", \"build time\"])\n",
        "\n",
        "# Parameters\n",
        "M = [5, 10, 15]\n",
        "efConstruction = [32, 48, 64]\n",
        "\n",
        "for m in M:\n",
        "    for ef in efConstruction:\n",
        "        hnsw = HNSW(\"cosine\", M=m, efConstruction=ef)\n",
        "        start = time.time()\n",
        "        for i in range(len(train)):\n",
        "            hnsw.insert(train[i])\n",
        "        build_time = time.time() - start\n",
        "\n",
        "        # Use pd.concat to add a row\n",
        "        build_time_df = pd.concat(\n",
        "            [build_time_df, pd.DataFrame({\"M\": [m], \"efConstruction\": [ef], \"build time\": [build_time]})],\n",
        "            ignore_index=True\n",
        "        )"
      ]
    },
    {
      "cell_type": "code",
      "execution_count": 128,
      "metadata": {
        "id": "yZG5c73rFn4c",
        "outputId": "a0150b28-fd55-4303-cc3b-335fb606846c",
        "colab": {
          "base_uri": "https://localhost:8080/",
          "height": 332
        }
      },
      "outputs": [
        {
          "output_type": "execute_result",
          "data": {
            "text/plain": [
              "    M efConstruction  build time\n",
              "0   5             32   45.532506\n",
              "1   5             48   56.865551\n",
              "2   5             64   57.885981\n",
              "3  10             32   55.697878\n",
              "4  10             48   73.326232\n",
              "5  10             64   88.719386\n",
              "6  15             32   71.125389\n",
              "7  15             48   92.047587\n",
              "8  15             64  112.499682"
            ],
            "text/html": [
              "\n",
              "  <div id=\"df-c6b1ad15-54be-4685-9e21-d66291a16e69\" class=\"colab-df-container\">\n",
              "    <div>\n",
              "<style scoped>\n",
              "    .dataframe tbody tr th:only-of-type {\n",
              "        vertical-align: middle;\n",
              "    }\n",
              "\n",
              "    .dataframe tbody tr th {\n",
              "        vertical-align: top;\n",
              "    }\n",
              "\n",
              "    .dataframe thead th {\n",
              "        text-align: right;\n",
              "    }\n",
              "</style>\n",
              "<table border=\"1\" class=\"dataframe\">\n",
              "  <thead>\n",
              "    <tr style=\"text-align: right;\">\n",
              "      <th></th>\n",
              "      <th>M</th>\n",
              "      <th>efConstruction</th>\n",
              "      <th>build time</th>\n",
              "    </tr>\n",
              "  </thead>\n",
              "  <tbody>\n",
              "    <tr>\n",
              "      <th>0</th>\n",
              "      <td>5</td>\n",
              "      <td>32</td>\n",
              "      <td>45.532506</td>\n",
              "    </tr>\n",
              "    <tr>\n",
              "      <th>1</th>\n",
              "      <td>5</td>\n",
              "      <td>48</td>\n",
              "      <td>56.865551</td>\n",
              "    </tr>\n",
              "    <tr>\n",
              "      <th>2</th>\n",
              "      <td>5</td>\n",
              "      <td>64</td>\n",
              "      <td>57.885981</td>\n",
              "    </tr>\n",
              "    <tr>\n",
              "      <th>3</th>\n",
              "      <td>10</td>\n",
              "      <td>32</td>\n",
              "      <td>55.697878</td>\n",
              "    </tr>\n",
              "    <tr>\n",
              "      <th>4</th>\n",
              "      <td>10</td>\n",
              "      <td>48</td>\n",
              "      <td>73.326232</td>\n",
              "    </tr>\n",
              "    <tr>\n",
              "      <th>5</th>\n",
              "      <td>10</td>\n",
              "      <td>64</td>\n",
              "      <td>88.719386</td>\n",
              "    </tr>\n",
              "    <tr>\n",
              "      <th>6</th>\n",
              "      <td>15</td>\n",
              "      <td>32</td>\n",
              "      <td>71.125389</td>\n",
              "    </tr>\n",
              "    <tr>\n",
              "      <th>7</th>\n",
              "      <td>15</td>\n",
              "      <td>48</td>\n",
              "      <td>92.047587</td>\n",
              "    </tr>\n",
              "    <tr>\n",
              "      <th>8</th>\n",
              "      <td>15</td>\n",
              "      <td>64</td>\n",
              "      <td>112.499682</td>\n",
              "    </tr>\n",
              "  </tbody>\n",
              "</table>\n",
              "</div>\n",
              "    <div class=\"colab-df-buttons\">\n",
              "\n",
              "  <div class=\"colab-df-container\">\n",
              "    <button class=\"colab-df-convert\" onclick=\"convertToInteractive('df-c6b1ad15-54be-4685-9e21-d66291a16e69')\"\n",
              "            title=\"Convert this dataframe to an interactive table.\"\n",
              "            style=\"display:none;\">\n",
              "\n",
              "  <svg xmlns=\"http://www.w3.org/2000/svg\" height=\"24px\" viewBox=\"0 -960 960 960\">\n",
              "    <path d=\"M120-120v-720h720v720H120Zm60-500h600v-160H180v160Zm220 220h160v-160H400v160Zm0 220h160v-160H400v160ZM180-400h160v-160H180v160Zm440 0h160v-160H620v160ZM180-180h160v-160H180v160Zm440 0h160v-160H620v160Z\"/>\n",
              "  </svg>\n",
              "    </button>\n",
              "\n",
              "  <style>\n",
              "    .colab-df-container {\n",
              "      display:flex;\n",
              "      gap: 12px;\n",
              "    }\n",
              "\n",
              "    .colab-df-convert {\n",
              "      background-color: #E8F0FE;\n",
              "      border: none;\n",
              "      border-radius: 50%;\n",
              "      cursor: pointer;\n",
              "      display: none;\n",
              "      fill: #1967D2;\n",
              "      height: 32px;\n",
              "      padding: 0 0 0 0;\n",
              "      width: 32px;\n",
              "    }\n",
              "\n",
              "    .colab-df-convert:hover {\n",
              "      background-color: #E2EBFA;\n",
              "      box-shadow: 0px 1px 2px rgba(60, 64, 67, 0.3), 0px 1px 3px 1px rgba(60, 64, 67, 0.15);\n",
              "      fill: #174EA6;\n",
              "    }\n",
              "\n",
              "    .colab-df-buttons div {\n",
              "      margin-bottom: 4px;\n",
              "    }\n",
              "\n",
              "    [theme=dark] .colab-df-convert {\n",
              "      background-color: #3B4455;\n",
              "      fill: #D2E3FC;\n",
              "    }\n",
              "\n",
              "    [theme=dark] .colab-df-convert:hover {\n",
              "      background-color: #434B5C;\n",
              "      box-shadow: 0px 1px 3px 1px rgba(0, 0, 0, 0.15);\n",
              "      filter: drop-shadow(0px 1px 2px rgba(0, 0, 0, 0.3));\n",
              "      fill: #FFFFFF;\n",
              "    }\n",
              "  </style>\n",
              "\n",
              "    <script>\n",
              "      const buttonEl =\n",
              "        document.querySelector('#df-c6b1ad15-54be-4685-9e21-d66291a16e69 button.colab-df-convert');\n",
              "      buttonEl.style.display =\n",
              "        google.colab.kernel.accessAllowed ? 'block' : 'none';\n",
              "\n",
              "      async function convertToInteractive(key) {\n",
              "        const element = document.querySelector('#df-c6b1ad15-54be-4685-9e21-d66291a16e69');\n",
              "        const dataTable =\n",
              "          await google.colab.kernel.invokeFunction('convertToInteractive',\n",
              "                                                    [key], {});\n",
              "        if (!dataTable) return;\n",
              "\n",
              "        const docLinkHtml = 'Like what you see? Visit the ' +\n",
              "          '<a target=\"_blank\" href=https://colab.research.google.com/notebooks/data_table.ipynb>data table notebook</a>'\n",
              "          + ' to learn more about interactive tables.';\n",
              "        element.innerHTML = '';\n",
              "        dataTable['output_type'] = 'display_data';\n",
              "        await google.colab.output.renderOutput(dataTable, element);\n",
              "        const docLink = document.createElement('div');\n",
              "        docLink.innerHTML = docLinkHtml;\n",
              "        element.appendChild(docLink);\n",
              "      }\n",
              "    </script>\n",
              "  </div>\n",
              "\n",
              "\n",
              "<div id=\"df-22554c17-201f-48db-a369-bf1a73b4d9fa\">\n",
              "  <button class=\"colab-df-quickchart\" onclick=\"quickchart('df-22554c17-201f-48db-a369-bf1a73b4d9fa')\"\n",
              "            title=\"Suggest charts\"\n",
              "            style=\"display:none;\">\n",
              "\n",
              "<svg xmlns=\"http://www.w3.org/2000/svg\" height=\"24px\"viewBox=\"0 0 24 24\"\n",
              "     width=\"24px\">\n",
              "    <g>\n",
              "        <path d=\"M19 3H5c-1.1 0-2 .9-2 2v14c0 1.1.9 2 2 2h14c1.1 0 2-.9 2-2V5c0-1.1-.9-2-2-2zM9 17H7v-7h2v7zm4 0h-2V7h2v10zm4 0h-2v-4h2v4z\"/>\n",
              "    </g>\n",
              "</svg>\n",
              "  </button>\n",
              "\n",
              "<style>\n",
              "  .colab-df-quickchart {\n",
              "      --bg-color: #E8F0FE;\n",
              "      --fill-color: #1967D2;\n",
              "      --hover-bg-color: #E2EBFA;\n",
              "      --hover-fill-color: #174EA6;\n",
              "      --disabled-fill-color: #AAA;\n",
              "      --disabled-bg-color: #DDD;\n",
              "  }\n",
              "\n",
              "  [theme=dark] .colab-df-quickchart {\n",
              "      --bg-color: #3B4455;\n",
              "      --fill-color: #D2E3FC;\n",
              "      --hover-bg-color: #434B5C;\n",
              "      --hover-fill-color: #FFFFFF;\n",
              "      --disabled-bg-color: #3B4455;\n",
              "      --disabled-fill-color: #666;\n",
              "  }\n",
              "\n",
              "  .colab-df-quickchart {\n",
              "    background-color: var(--bg-color);\n",
              "    border: none;\n",
              "    border-radius: 50%;\n",
              "    cursor: pointer;\n",
              "    display: none;\n",
              "    fill: var(--fill-color);\n",
              "    height: 32px;\n",
              "    padding: 0;\n",
              "    width: 32px;\n",
              "  }\n",
              "\n",
              "  .colab-df-quickchart:hover {\n",
              "    background-color: var(--hover-bg-color);\n",
              "    box-shadow: 0 1px 2px rgba(60, 64, 67, 0.3), 0 1px 3px 1px rgba(60, 64, 67, 0.15);\n",
              "    fill: var(--button-hover-fill-color);\n",
              "  }\n",
              "\n",
              "  .colab-df-quickchart-complete:disabled,\n",
              "  .colab-df-quickchart-complete:disabled:hover {\n",
              "    background-color: var(--disabled-bg-color);\n",
              "    fill: var(--disabled-fill-color);\n",
              "    box-shadow: none;\n",
              "  }\n",
              "\n",
              "  .colab-df-spinner {\n",
              "    border: 2px solid var(--fill-color);\n",
              "    border-color: transparent;\n",
              "    border-bottom-color: var(--fill-color);\n",
              "    animation:\n",
              "      spin 1s steps(1) infinite;\n",
              "  }\n",
              "\n",
              "  @keyframes spin {\n",
              "    0% {\n",
              "      border-color: transparent;\n",
              "      border-bottom-color: var(--fill-color);\n",
              "      border-left-color: var(--fill-color);\n",
              "    }\n",
              "    20% {\n",
              "      border-color: transparent;\n",
              "      border-left-color: var(--fill-color);\n",
              "      border-top-color: var(--fill-color);\n",
              "    }\n",
              "    30% {\n",
              "      border-color: transparent;\n",
              "      border-left-color: var(--fill-color);\n",
              "      border-top-color: var(--fill-color);\n",
              "      border-right-color: var(--fill-color);\n",
              "    }\n",
              "    40% {\n",
              "      border-color: transparent;\n",
              "      border-right-color: var(--fill-color);\n",
              "      border-top-color: var(--fill-color);\n",
              "    }\n",
              "    60% {\n",
              "      border-color: transparent;\n",
              "      border-right-color: var(--fill-color);\n",
              "    }\n",
              "    80% {\n",
              "      border-color: transparent;\n",
              "      border-right-color: var(--fill-color);\n",
              "      border-bottom-color: var(--fill-color);\n",
              "    }\n",
              "    90% {\n",
              "      border-color: transparent;\n",
              "      border-bottom-color: var(--fill-color);\n",
              "    }\n",
              "  }\n",
              "</style>\n",
              "\n",
              "  <script>\n",
              "    async function quickchart(key) {\n",
              "      const quickchartButtonEl =\n",
              "        document.querySelector('#' + key + ' button');\n",
              "      quickchartButtonEl.disabled = true;  // To prevent multiple clicks.\n",
              "      quickchartButtonEl.classList.add('colab-df-spinner');\n",
              "      try {\n",
              "        const charts = await google.colab.kernel.invokeFunction(\n",
              "            'suggestCharts', [key], {});\n",
              "      } catch (error) {\n",
              "        console.error('Error during call to suggestCharts:', error);\n",
              "      }\n",
              "      quickchartButtonEl.classList.remove('colab-df-spinner');\n",
              "      quickchartButtonEl.classList.add('colab-df-quickchart-complete');\n",
              "    }\n",
              "    (() => {\n",
              "      let quickchartButtonEl =\n",
              "        document.querySelector('#df-22554c17-201f-48db-a369-bf1a73b4d9fa button');\n",
              "      quickchartButtonEl.style.display =\n",
              "        google.colab.kernel.accessAllowed ? 'block' : 'none';\n",
              "    })();\n",
              "  </script>\n",
              "</div>\n",
              "\n",
              "  <div id=\"id_1ded2f99-0c57-4f40-8bdf-315dc83b88b2\">\n",
              "    <style>\n",
              "      .colab-df-generate {\n",
              "        background-color: #E8F0FE;\n",
              "        border: none;\n",
              "        border-radius: 50%;\n",
              "        cursor: pointer;\n",
              "        display: none;\n",
              "        fill: #1967D2;\n",
              "        height: 32px;\n",
              "        padding: 0 0 0 0;\n",
              "        width: 32px;\n",
              "      }\n",
              "\n",
              "      .colab-df-generate:hover {\n",
              "        background-color: #E2EBFA;\n",
              "        box-shadow: 0px 1px 2px rgba(60, 64, 67, 0.3), 0px 1px 3px 1px rgba(60, 64, 67, 0.15);\n",
              "        fill: #174EA6;\n",
              "      }\n",
              "\n",
              "      [theme=dark] .colab-df-generate {\n",
              "        background-color: #3B4455;\n",
              "        fill: #D2E3FC;\n",
              "      }\n",
              "\n",
              "      [theme=dark] .colab-df-generate:hover {\n",
              "        background-color: #434B5C;\n",
              "        box-shadow: 0px 1px 3px 1px rgba(0, 0, 0, 0.15);\n",
              "        filter: drop-shadow(0px 1px 2px rgba(0, 0, 0, 0.3));\n",
              "        fill: #FFFFFF;\n",
              "      }\n",
              "    </style>\n",
              "    <button class=\"colab-df-generate\" onclick=\"generateWithVariable('build_time_df')\"\n",
              "            title=\"Generate code using this dataframe.\"\n",
              "            style=\"display:none;\">\n",
              "\n",
              "  <svg xmlns=\"http://www.w3.org/2000/svg\" height=\"24px\"viewBox=\"0 0 24 24\"\n",
              "       width=\"24px\">\n",
              "    <path d=\"M7,19H8.4L18.45,9,17,7.55,7,17.6ZM5,21V16.75L18.45,3.32a2,2,0,0,1,2.83,0l1.4,1.43a1.91,1.91,0,0,1,.58,1.4,1.91,1.91,0,0,1-.58,1.4L9.25,21ZM18.45,9,17,7.55Zm-12,3A5.31,5.31,0,0,0,4.9,8.1,5.31,5.31,0,0,0,1,6.5,5.31,5.31,0,0,0,4.9,4.9,5.31,5.31,0,0,0,6.5,1,5.31,5.31,0,0,0,8.1,4.9,5.31,5.31,0,0,0,12,6.5,5.46,5.46,0,0,0,6.5,12Z\"/>\n",
              "  </svg>\n",
              "    </button>\n",
              "    <script>\n",
              "      (() => {\n",
              "      const buttonEl =\n",
              "        document.querySelector('#id_1ded2f99-0c57-4f40-8bdf-315dc83b88b2 button.colab-df-generate');\n",
              "      buttonEl.style.display =\n",
              "        google.colab.kernel.accessAllowed ? 'block' : 'none';\n",
              "\n",
              "      buttonEl.onclick = () => {\n",
              "        google.colab.notebook.generateWithVariable('build_time_df');\n",
              "      }\n",
              "      })();\n",
              "    </script>\n",
              "  </div>\n",
              "\n",
              "    </div>\n",
              "  </div>\n"
            ],
            "application/vnd.google.colaboratory.intrinsic+json": {
              "type": "dataframe",
              "variable_name": "build_time_df",
              "summary": "{\n  \"name\": \"build_time_df\",\n  \"rows\": 9,\n  \"fields\": [\n    {\n      \"column\": \"M\",\n      \"properties\": {\n        \"dtype\": \"date\",\n        \"min\": 5,\n        \"max\": 15,\n        \"num_unique_values\": 3,\n        \"samples\": [\n          5,\n          10,\n          15\n        ],\n        \"semantic_type\": \"\",\n        \"description\": \"\"\n      }\n    },\n    {\n      \"column\": \"efConstruction\",\n      \"properties\": {\n        \"dtype\": \"date\",\n        \"min\": 32,\n        \"max\": 64,\n        \"num_unique_values\": 3,\n        \"samples\": [\n          32,\n          48,\n          64\n        ],\n        \"semantic_type\": \"\",\n        \"description\": \"\"\n      }\n    },\n    {\n      \"column\": \"build time\",\n      \"properties\": {\n        \"dtype\": \"number\",\n        \"std\": 21.54972712656224,\n        \"min\": 45.532506227493286,\n        \"max\": 112.4996817111969,\n        \"num_unique_values\": 9,\n        \"samples\": [\n          92.04758715629578,\n          56.86555099487305,\n          88.71938562393188\n        ],\n        \"semantic_type\": \"\",\n        \"description\": \"\"\n      }\n    }\n  ]\n}"
            }
          },
          "metadata": {},
          "execution_count": 128
        }
      ],
      "source": [
        "build_time_df"
      ]
    },
    {
      "cell_type": "code",
      "execution_count": 129,
      "metadata": {
        "id": "6_siebfdFn4c",
        "outputId": "6bb1a958-114f-4d1f-e621-479236f2d24b",
        "colab": {
          "base_uri": "https://localhost:8080/",
          "height": 467
        }
      },
      "outputs": [
        {
          "output_type": "execute_result",
          "data": {
            "text/plain": [
              "<Axes: xlabel='M', ylabel='build time'>"
            ]
          },
          "metadata": {},
          "execution_count": 129
        },
        {
          "output_type": "display_data",
          "data": {
            "text/plain": [
              "<Figure size 640x480 with 1 Axes>"
            ],
            "image/png": "[encoded data removed]"
          },
          "metadata": {}
        }
      ],
      "source": [
        "sns.lineplot(x = 'M', y = 'build time', data = build_time_df, hue = 'efConstruction', palette = \"muted\")"
      ]
    },
    {
      "cell_type": "code",
      "execution_count": null,
      "metadata": {
        "id": "rdjDiaULFn4c"
      },
      "outputs": [],
      "source": [
        "efs = [10, 20, 30, 50, 100]\n",
        "accuracies_hnsw = []\n",
        "qps_hnsw = []\n",
        "visited_hnsw = []\n",
        "\n",
        "for ef in efs:\n",
        "\n",
        "    query_acc = []\n",
        "    query_per_second = []\n",
        "    query_visit = []\n",
        "\n",
        "    for i in range(len(test)):\n",
        "        start = time.time()\n",
        "        search_result = hnsw.search(test[i], 5, ef)\n",
        "        query_per_second.append(time.time() - start)\n",
        "\n",
        "        acc = len(set(neighbors[i][:5]) & set([idx for idx, _ in search_result])) / 5\n",
        "        query_acc.append(acc)\n",
        "\n",
        "        query_visit.append(hnsw.visited_count)\n",
        "\n",
        "    qps_hnsw.append(1 / np.mean(query_per_second))\n",
        "    accuracies_hnsw.append(np.mean(query_acc))\n",
        "    visited_hnsw.append(np.mean(query_visit))\n",
        "\n",
        "\n",
        "for ef, acc, qp, v in zip(efs, accuracies_hnsw, qps_hnsw, visited_hnsw):\n",
        "    print(f\"ef : {ef}, accuracy : {acc}, qps : {qp}, visited : {v}\")\n"
      ]
    },
    {
      "cell_type": "code",
      "execution_count": null,
      "metadata": {
        "id": "dR5pQLxbFn4c"
      },
      "outputs": [],
      "source": [
        "\n",
        "plt.figure(figsize=(12, 5))\n",
        "\n",
        "plt.subplot(1, 2, 1)\n",
        "sns.lineplot(x=accuracies_hnsw, y=qps_hnsw)\n",
        "sns.scatterplot(x=accuracies_hnsw, y=qps_hnsw, hue=efs, s=100, legend=\"full\", palette = \"mako\")\n",
        "plt.xlabel(\"Accuracy (Recall)\")\n",
        "plt.ylabel(\"Query Per Second (QPS)\")\n",
        "plt.legend(title=\"n_probe\")\n",
        "\n",
        "\n",
        "plt.subplot(1, 2, 2)\n",
        "sns.lineplot(x=accuracies_hnsw, y=visited_hnsw)\n",
        "sns.scatterplot(x=accuracies_hnsw, y=visited_hnsw, hue=efs, s=100, palette = \"mako\")\n",
        "plt.xlabel(\"Accuracy (Recall)\")\n",
        "plt.ylabel(\"Visited Nodes\")\n",
        "plt.legend(title=\"n_probe\")\n",
        "plt.title(\"Accuracy vs Visited Nodes\")\n",
        "\n",
        "plt.tight_layout()\n",
        "plt.show()"
      ]
    },
    {
      "cell_type": "markdown",
      "source": [
        "### IVF vs HNSW"
      ],
      "metadata": {
        "id": "oWG9hyHsLtM3"
      }
    },
    {
      "cell_type": "code",
      "source": [
        "plt.figure(figsize=(12, 5))\n",
        "\n",
        "plt.subplot(1, 2, 1)\n",
        "sns.lineplot(x=accuracies_ivf, y=qps_ivf, label = \"IVF\")\n",
        "sns.lineplot(x=accuracies_hnsw, y=qps_hnsw, label = \"HNSW\")\n",
        "plt.title(\"Accuracy vs Query Per Second\")\n",
        "plt.xlabel(\"Accuracy (Recall)\")\n",
        "plt.ylabel(\"Query Per Second (QPS)\")\n",
        "plt.legend()\n",
        "\n",
        "plt.subplot(1, 2, 2)\n",
        "sns.lineplot(x=accuracies_ivf, y=visited_ivf, label = \"IVF\")\n",
        "sns.lineplot(x=accuracies_hnsw, y=visited_hnsw, label = \"HNSW\")\n",
        "plt.title(\"Accuracy vs Visited Nodes\")\n",
        "plt.xlabel(\"Accuracy (Recall)\")\n",
        "plt.ylabel(\"Query Per Second (QPS)\")\n",
        "plt.legend()\n",
        "\n",
        "plt.show()"
      ],
      "metadata": {
        "id": "hu44wY5HUCIF"
      },
      "execution_count": null,
      "outputs": []
    },
    {
      "cell_type": "code",
      "source": [],
      "metadata": {
        "id": "qgjflSKQL2Pu"
      },
      "execution_count": null,
      "outputs": []
    }
  ],
  "metadata": {
    "colab": {
      "provenance": []
    },
    "kernelspec": {
      "display_name": "hnsw",
      "language": "python",
      "name": "python3"
    },
    "language_info": {
      "codemirror_mode": {
        "name": "ipython",
        "version": 3
      },
      "file_extension": ".py",
      "mimetype": "text/x-python",
      "name": "python",
      "nbconvert_exporter": "python",
      "pygments_lexer": "ipython3",
      "version": "3.12.1"
    }
  },
  "nbformat": 4,
  "nbformat_minor": 0
}