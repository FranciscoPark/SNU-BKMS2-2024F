{
  "nbformat": 4,
  "nbformat_minor": 0,
  "metadata": {
    "colab": {
      "provenance": []
    },
    "kernelspec": {
      "name": "python3",
      "display_name": "Python 3"
    },
    "language_info": {
      "name": "python"
    }
  },
  "cells": [
    {
      "cell_type": "markdown",
      "metadata": {
        "id": "ONojGQx_Fn4d"
      },
      "source": [
        "## Binary Quantization"
      ]
    },
    {
      "cell_type": "markdown",
      "source": [
        "* 벡터의 각 차원을 1비트로 변환하여 메모리 절약\n",
        "* 양수는 1, 음수는 0으로 변환하여 방향성만 유지\n",
        "* 메모리 효율성과 처리 속도를 높이지만, 정확도가 떨어질 수 있음\n",
        "* similarity search 진행 시, oversampling 후 re-ranking 하는 방식으로 보완 가능"
      ],
      "metadata": {
        "id": "y_YFKAH72cMb"
      }
    },
    {
      "cell_type": "code",
      "source": [
        "import numpy as np\n",
        "import matplotlib.pyplot as plt\n",
        "import seaborn as sns\n",
        "import h5py\n",
        "import time\n",
        "\n",
        "f = h5py.File('openai_embedding_output.hdf5','r')\n",
        "distances = f['distances']\n",
        "neighbors = f['neighbors']\n",
        "test = f['test']\n",
        "train = f['train']"
      ],
      "metadata": {
        "id": "yzySiIBO3lHR"
      },
      "execution_count": 7,
      "outputs": []
    },
    {
      "cell_type": "code",
      "execution_count": 17,
      "metadata": {
        "id": "mOiDlF2hFn4d"
      },
      "outputs": [],
      "source": [
        "import numpy as np\n",
        "from scipy.spatial.distance import hamming, cosine\n",
        "\n",
        "### example code ###\n",
        "\n",
        "class BinaryQuantization:\n",
        "    def __init__(self, vectors):\n",
        "        self.vectors = self.binary_quantization(vectors)\n",
        "\n",
        "    def binary_quantization(self, vectors):\n",
        "        return np.where(vectors >= 0, 1, 0)\n",
        "\n",
        "    def search(self, query, k):\n",
        "        query_bin = self.binary_quantization(query)\n",
        "        distances = np.array([hamming(query_bin, vec_bin) for vec_bin in self.vectors])\n",
        "        closest_index = np.argsort(distances)[:k]\n",
        "        return [(idx, distances[idx]) for idx in closest_index]\n"
      ]
    },
    {
      "cell_type": "code",
      "execution_count": 18,
      "metadata": {
        "id": "IL9Vdl8FFn4d"
      },
      "outputs": [],
      "source": [
        "bq = BinaryQuantization(train[:])"
      ]
    },
    {
      "cell_type": "code",
      "execution_count": 19,
      "metadata": {
        "id": "OXr_ham4Fn4d",
        "outputId": "a3048257-6f7b-4487-9a26-c1cfef768160",
        "colab": {
          "base_uri": "https://localhost:8080/"
        }
      },
      "outputs": [
        {
          "output_type": "execute_result",
          "data": {
            "text/plain": [
              "[(3477, 0.2571614583333333),\n",
              " (5303, 0.2643229166666667),\n",
              " (534, 0.26953125),\n",
              " (4134, 0.2734375),\n",
              " (7981, 0.2799479166666667)]"
            ]
          },
          "metadata": {},
          "execution_count": 19
        }
      ],
      "source": [
        "bq.search(test[0], 5)"
      ]
    },
    {
      "cell_type": "code",
      "execution_count": 20,
      "metadata": {
        "id": "TSHn98bOFn4d",
        "outputId": "7d703501-1a5b-4f32-d1a2-40c87f853184",
        "colab": {
          "base_uri": "https://localhost:8080/"
        }
      },
      "outputs": [
        {
          "output_type": "execute_result",
          "data": {
            "text/plain": [
              "[(3477, 0.1564233992352113),\n",
              " (7981, 0.17076890207250994),\n",
              " (5303, 0.17926627397536643),\n",
              " (4134, 0.18096811657953815),\n",
              " (534, 0.18518513441085238)]"
            ]
          },
          "metadata": {},
          "execution_count": 20
        }
      ],
      "source": [
        "[(n, d) for d, n in zip(distances[0][:5], neighbors[0][:5])]"
      ]
    },
    {
      "cell_type": "code",
      "execution_count": 21,
      "metadata": {
        "id": "a1M0MxRMFn4d",
        "outputId": "924f2374-cac5-4c79-f519-a5dd83a6ae6e",
        "colab": {
          "base_uri": "https://localhost:8080/"
        }
      },
      "outputs": [
        {
          "output_type": "stream",
          "name": "stdout",
          "text": [
            "accuracy : 0.6779999999999998, qps : 6.42656478843111\n"
          ]
        }
      ],
      "source": [
        "## search speed and accuracy\n",
        "accuracies_bq = []\n",
        "times = []\n",
        "\n",
        "for i in range(len(test)):\n",
        "    start = time.time()\n",
        "    search_result = bq.search(test[i], 5)\n",
        "    times.append(time.time() - start)\n",
        "\n",
        "    acc = len(set(neighbors[i][:5]) & set([idx for idx, _ in search_result])) / 5\n",
        "    accuracies_bq.append(acc)\n",
        "\n",
        "print(f\"accuracy : {np.mean(accuracies_bq)}, qps : {1 / np.mean(times)}\")\n",
        "\n",
        "\n",
        "## BQ만으로는 성능 부족 => over-filtering 후 re-ranking 필요"
      ]
    },
    {
      "cell_type": "code",
      "execution_count": 23,
      "metadata": {
        "id": "_rO8W0y_Fn4d"
      },
      "outputs": [],
      "source": []
    },
    {
      "cell_type": "markdown",
      "source": [
        "## Homework (2024.11.20 (수) 11:59 PM 까지)\n",
        "\n",
        "*   해당 파일에 작성하여 제출\n",
        "*   파일명: homework_이름_학번.ipynb\n"
      ],
      "metadata": {
        "id": "WeQF82Fsoxz6"
      }
    },
    {
      "cell_type": "markdown",
      "source": [
        "\n",
        "\n",
        "1. IVF, HNSW에 binary quantization 적용\n",
        "    *   index build or search (cf. IVF-PQ, HNSW-PQ)\n",
        "    *   구현 방식에 대한 간략한 설명\n"
      ],
      "metadata": {
        "id": "2RHcH8Y3UVg5"
      }
    },
    {
      "cell_type": "code",
      "source": [
        "class IVFBQ():\n",
        "    ..."
      ],
      "metadata": {
        "id": "gSAmoKjoS30X"
      },
      "execution_count": null,
      "outputs": []
    },
    {
      "cell_type": "code",
      "source": [
        "\n",
        "class HNSWBQ():\n",
        "    ...\n"
      ],
      "metadata": {
        "id": "R4JiyMC1giI6"
      },
      "execution_count": 30,
      "outputs": []
    },
    {
      "cell_type": "markdown",
      "source": [
        "\n",
        "2. 적용 이후 기존의 IVF, HNSW와 성능 비교 분석 (recall, qps, 방문 노드 수 등)\n",
        "    *   정확도 저하 시 oversampling 및 re-ranking 진행\n",
        "    *   BQ를 적용함으로써 얻는 이익과 어떤 상황에서 BQ를 사용하는 것이 적절할지 서술\n",
        "\n",
        "\n"
      ],
      "metadata": {
        "id": "7dcgBk2wTLw-"
      }
    },
    {
      "cell_type": "code",
      "source": [],
      "metadata": {
        "id": "wMe7ZGfTCm5R"
      },
      "execution_count": null,
      "outputs": []
    }
  ]
}